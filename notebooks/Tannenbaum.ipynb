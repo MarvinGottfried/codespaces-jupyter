{
 "cells": [
  {
   "cell_type": "code",
   "execution_count": 2,
   "metadata": {},
   "outputs": [
    {
     "name": "stdout",
     "output_type": "stream",
     "text": [
      "          *\n",
      "         ***\n",
      "        *****\n",
      "       *******\n",
      "      *********\n",
      "     ***********\n",
      "    *************\n",
      "   ***************\n",
      "  *****************\n",
      " *******************\n",
      "         |||\n",
      "         |||\n"
     ]
    }
   ],
   "source": [
    "def tannenbaum(hoehe):\n",
    "    # Teil 1: Baumkrone\n",
    "    for i in range(hoehe):\n",
    "        leerzeichen = \" \" * (hoehe - i)\n",
    "        sterne = \"*\" * (2 * i + 1)\n",
    "        print(leerzeichen + sterne)\n",
    "\n",
    "    # Teil 2: Stamm\n",
    "    stammHoehe = 2\n",
    "    stammBreite = 3\n",
    "    leerzeichenStamm = \" \" * (hoehe - stammBreite // 2)\n",
    "    for i in range(stammHoehe):\n",
    "        print(leerzeichenStamm + \"|\" * stammBreite)\n",
    "\n",
    "tannenbaum(12)"
   ]
  }
 ],
 "metadata": {
  "kernelspec": {
   "display_name": "Python 3",
   "language": "python",
   "name": "python3"
  },
  "language_info": {
   "codemirror_mode": {
    "name": "ipython",
    "version": 3
   },
   "file_extension": ".py",
   "mimetype": "text/x-python",
   "name": "python",
   "nbconvert_exporter": "python",
   "pygments_lexer": "ipython3",
   "version": "3.12.1"
  }
 },
 "nbformat": 4,
 "nbformat_minor": 2
}
